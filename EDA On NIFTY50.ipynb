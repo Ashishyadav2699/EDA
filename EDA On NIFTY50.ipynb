{
 "cells": [
  {
   "cell_type": "markdown",
   "id": "43f88a21",
   "metadata": {},
   "source": [
    "#  Title - EDA of Nifty50-Bajaj-Auto"
   ]
  },
  {
   "cell_type": "markdown",
   "id": "4f18f17d",
   "metadata": {},
   "source": [
    "The project title \"EDA of Nifty50-Bajaj-Auto\" involves conducting an exploratory data analysis (EDA) on the stock prices of Bajaj Auto, a company that is part of the Nifty50 index.\n",
    "\n",
    "The Nifty50 index is a stock market index in India that includes the top 50 companies listed on the National Stock Exchange (NSE). Bajaj Auto is one of these companies and is a leading manufacturer of motorcycles and three-wheelers.\n",
    "\n",
    "EDA involves analyzing and summarizing data to uncover patterns, trends, and relationships. In this project, the focus will be on exploring the historical stock prices of Bajaj Auto and the Nifty50 index to gain insights into their performance and identify any potential correlations between them.\n",
    "\n",
    "Some of the key tasks that might be involved in this project could include data cleaning, visualization, statistical analysis, and modeling. The ultimate goal of the project is to gain a better understanding of the relationship between Bajaj Auto and the Nifty50 index and to use this information to make more informed investment decisions."
   ]
  },
  {
   "cell_type": "markdown",
   "id": "cc696324",
   "metadata": {},
   "source": [
    "# 1. Downloading the Dataset"
   ]
  },
  {
   "cell_type": "markdown",
   "id": "65477856",
   "metadata": {},
   "source": [
    "Installation of the necessary libraries and opendatasets\n",
    "opendatasets imports our code into the jupyter notebook directly"
   ]
  },
  {
   "cell_type": "code",
   "execution_count": 2,
   "id": "6074cb5b",
   "metadata": {},
   "outputs": [
    {
     "name": "stderr",
     "output_type": "stream",
     "text": [
      "\n",
      "[notice] A new release of pip available: 22.3.1 -> 23.0.1\n",
      "[notice] To update, run: python.exe -m pip install --upgrade pip\n"
     ]
    }
   ],
   "source": [
    "\n",
    "!pip install opendatasets --upgrade --quiet\n"
   ]
  },
  {
   "cell_type": "markdown",
   "id": "e747f893",
   "metadata": {},
   "source": [
    "Downloading the data, and listing the files within the dataset."
   ]
  },
  {
   "cell_type": "code",
   "execution_count": 1,
   "id": "74e14d1d",
   "metadata": {},
   "outputs": [],
   "source": [
    "#downloading the data, and listing the files within the dataset.\n",
    "dataset_url = 'https://www.kaggle.com/rohanrao/nifty50-stock-market-data'"
   ]
  },
  {
   "cell_type": "code",
   "execution_count": 2,
   "id": "38774244",
   "metadata": {},
   "outputs": [
    {
     "name": "stdout",
     "output_type": "stream",
     "text": [
      "Skipping, found downloaded files in \".\\nifty50-stock-market-data\" (use force=True to force download)\n"
     ]
    }
   ],
   "source": [
    "import opendatasets as od\n",
    "od.download(dataset_url)"
   ]
  },
  {
   "cell_type": "code",
   "execution_count": 3,
   "id": "2ca42af9",
   "metadata": {
    "scrolled": true
   },
   "outputs": [],
   "source": [
    "#The dataset has been downloaded and extracted.\n",
    "data_dir = './nifty50-stock-market-data'\n",
    "#import the data\n",
    "import pandas as pd\n",
    "import os\n",
    "lis_dict = os.listdir(data_dir)"
   ]
  },
  {
   "cell_type": "markdown",
   "id": "a98b2b88",
   "metadata": {},
   "source": [
    "# Industry wise sorting"
   ]
  },
  {
   "cell_type": "code",
   "execution_count": 4,
   "id": "57649267",
   "metadata": {},
   "outputs": [],
   "source": [
    "industries_wise_df = pd.read_csv(data_dir + \"/stock_metadata.csv\")\n",
    "df1_copy=industries_wise_df.copy()\n",
    "x=df1_copy.sort_values(by ='Industry',ascending =True)\n",
    "\n",
    "\n"
   ]
  },
  {
   "cell_type": "code",
   "execution_count": null,
   "id": "3add982e",
   "metadata": {},
   "outputs": [],
   "source": []
  },
  {
   "cell_type": "markdown",
   "id": "b37a6149",
   "metadata": {},
   "source": [
    "# Doing EDA on Automobile Industry "
   ]
  },
  {
   "cell_type": "markdown",
   "id": "560a265f",
   "metadata": {},
   "source": [
    "# 1- Automobile"
   ]
  },
  {
   "cell_type": "markdown",
   "id": "a00f872b",
   "metadata": {},
   "source": [
    "# (Importing the necessary pandas library for loading raw data & cleaning)"
   ]
  },
  {
   "cell_type": "code",
   "execution_count": 6,
   "id": "5e6ecd67",
   "metadata": {},
   "outputs": [
    {
     "data": {
      "text/plain": [
       "['ADANIPORTS.csv',\n",
       " 'ASIANPAINT.csv',\n",
       " 'AXISBANK.csv',\n",
       " 'BAJAJ-AUTO.csv',\n",
       " 'BAJAJFINSV.csv',\n",
       " 'BAJFINANCE.csv',\n",
       " 'BHARTIARTL.csv',\n",
       " 'BPCL.csv',\n",
       " 'BRITANNIA.csv',\n",
       " 'CIPLA.csv',\n",
       " 'COALINDIA.csv',\n",
       " 'DRREDDY.csv',\n",
       " 'EICHERMOT.csv',\n",
       " 'GAIL.csv',\n",
       " 'GRASIM.csv',\n",
       " 'HCLTECH.csv',\n",
       " 'HDFC.csv',\n",
       " 'HDFCBANK.csv',\n",
       " 'HEROMOTOCO.csv',\n",
       " 'HINDALCO.csv',\n",
       " 'HINDUNILVR.csv',\n",
       " 'ICICIBANK.csv',\n",
       " 'INDUSINDBK.csv',\n",
       " 'INFRATEL.csv',\n",
       " 'INFY.csv',\n",
       " 'IOC.csv',\n",
       " 'ITC.csv',\n",
       " 'JSWSTEEL.csv',\n",
       " 'KOTAKBANK.csv',\n",
       " 'LT.csv',\n",
       " 'MARUTI.csv',\n",
       " 'MM.csv',\n",
       " 'NESTLEIND.csv',\n",
       " 'NIFTY50_all.csv',\n",
       " 'NTPC.csv',\n",
       " 'ONGC.csv',\n",
       " 'POWERGRID.csv',\n",
       " 'RELIANCE.csv',\n",
       " 'SBIN.csv',\n",
       " 'SHREECEM.csv',\n",
       " 'stock_metadata.csv',\n",
       " 'SUNPHARMA.csv',\n",
       " 'TATAMOTORS.csv',\n",
       " 'TATASTEEL.csv',\n",
       " 'TCS.csv',\n",
       " 'TECHM.csv',\n",
       " 'TITAN.csv',\n",
       " 'ULTRACEMCO.csv',\n",
       " 'UPL.csv',\n",
       " 'VEDL.csv',\n",
       " 'WIPRO.csv',\n",
       " 'ZEEL.csv']"
      ]
     },
     "execution_count": 6,
     "metadata": {},
     "output_type": "execute_result"
    }
   ],
   "source": [
    "import pandas as pd\n",
    "#we have list directory of all nifty 50 company we can check and clean data just useing values in the list directory \n",
    "lis_dict"
   ]
  },
  {
   "cell_type": "markdown",
   "id": "45aae79d",
   "metadata": {},
   "source": [
    "# EDA of BAJAJ-AUTO"
   ]
  },
  {
   "cell_type": "markdown",
   "id": "9511f66d",
   "metadata": {},
   "source": [
    "# Data Preparation and Cleaning"
   ]
  },
  {
   "cell_type": "code",
   "execution_count": 7,
   "id": "cffee03f",
   "metadata": {},
   "outputs": [
    {
     "data": {
      "text/plain": [
       "Date                    0\n",
       "Symbol                  0\n",
       "Series                  0\n",
       "Prev Close              0\n",
       "Open                    0\n",
       "High                    0\n",
       "Low                     0\n",
       "Last                    0\n",
       "Close                   0\n",
       "VWAP                    0\n",
       "Volume                  0\n",
       "Turnover                0\n",
       "Trades                746\n",
       "Deliverable Volume      0\n",
       "%Deliverble             0\n",
       "dtype: int64"
      ]
     },
     "execution_count": 7,
     "metadata": {},
     "output_type": "execute_result"
    }
   ],
   "source": [
    "##load the data into dataframe\n",
    "df = pd.read_csv(data_dir + \"/BAJAJ-AUTO.csv\")\n",
    "df.isna().sum()\n"
   ]
  },
  {
   "cell_type": "markdown",
   "id": "1f203b4a",
   "metadata": {},
   "source": [
    "More about thair data type"
   ]
  },
  {
   "cell_type": "code",
   "execution_count": 8,
   "id": "56da2166",
   "metadata": {},
   "outputs": [
    {
     "data": {
      "text/plain": [
       "Date                   object\n",
       "Symbol                 object\n",
       "Series                 object\n",
       "Prev Close            float64\n",
       "Open                  float64\n",
       "High                  float64\n",
       "Low                   float64\n",
       "Last                  float64\n",
       "Close                 float64\n",
       "VWAP                  float64\n",
       "Volume                  int64\n",
       "Turnover              float64\n",
       "Trades                float64\n",
       "Deliverable Volume      int64\n",
       "%Deliverble           float64\n",
       "dtype: object"
      ]
     },
     "execution_count": 8,
     "metadata": {},
     "output_type": "execute_result"
    }
   ],
   "source": [
    "df.dtypes"
   ]
  },
  {
   "cell_type": "markdown",
   "id": "ccadcea1",
   "metadata": {},
   "source": [
    "More about the columns and their data types"
   ]
  },
  {
   "cell_type": "code",
   "execution_count": 9,
   "id": "6d4953a7",
   "metadata": {},
   "outputs": [
    {
     "name": "stdout",
     "output_type": "stream",
     "text": [
      "<class 'pandas.core.frame.DataFrame'>\n",
      "RangeIndex: 3202 entries, 0 to 3201\n",
      "Data columns (total 15 columns):\n",
      " #   Column              Non-Null Count  Dtype  \n",
      "---  ------              --------------  -----  \n",
      " 0   Date                3202 non-null   object \n",
      " 1   Symbol              3202 non-null   object \n",
      " 2   Series              3202 non-null   object \n",
      " 3   Prev Close          3202 non-null   float64\n",
      " 4   Open                3202 non-null   float64\n",
      " 5   High                3202 non-null   float64\n",
      " 6   Low                 3202 non-null   float64\n",
      " 7   Last                3202 non-null   float64\n",
      " 8   Close               3202 non-null   float64\n",
      " 9   VWAP                3202 non-null   float64\n",
      " 10  Volume              3202 non-null   int64  \n",
      " 11  Turnover            3202 non-null   float64\n",
      " 12  Trades              2456 non-null   float64\n",
      " 13  Deliverable Volume  3202 non-null   int64  \n",
      " 14  %Deliverble         3202 non-null   float64\n",
      "dtypes: float64(10), int64(2), object(3)\n",
      "memory usage: 375.4+ KB\n"
     ]
    }
   ],
   "source": [
    "\n",
    "df.info()\n"
   ]
  },
  {
   "cell_type": "markdown",
   "id": "1195471e",
   "metadata": {},
   "source": [
    "except for trades, deliverable volume and % deliverable rest all columns are good with non-null values.                           \n",
    "Date,Symbol and Series are data type object columns. Volume is of integer data type and rest all are float types."
   ]
  },
  {
   "cell_type": "code",
   "execution_count": 10,
   "id": "96306f3e",
   "metadata": {},
   "outputs": [
    {
     "data": {
      "text/html": [
       "<div>\n",
       "<style scoped>\n",
       "    .dataframe tbody tr th:only-of-type {\n",
       "        vertical-align: middle;\n",
       "    }\n",
       "\n",
       "    .dataframe tbody tr th {\n",
       "        vertical-align: top;\n",
       "    }\n",
       "\n",
       "    .dataframe thead th {\n",
       "        text-align: right;\n",
       "    }\n",
       "</style>\n",
       "<table border=\"1\" class=\"dataframe\">\n",
       "  <thead>\n",
       "    <tr style=\"text-align: right;\">\n",
       "      <th></th>\n",
       "      <th>Prev Close</th>\n",
       "      <th>Open</th>\n",
       "      <th>High</th>\n",
       "      <th>Low</th>\n",
       "      <th>Last</th>\n",
       "      <th>Close</th>\n",
       "      <th>VWAP</th>\n",
       "      <th>Volume</th>\n",
       "      <th>Turnover</th>\n",
       "      <th>Trades</th>\n",
       "      <th>Deliverable Volume</th>\n",
       "      <th>%Deliverble</th>\n",
       "    </tr>\n",
       "  </thead>\n",
       "  <tbody>\n",
       "    <tr>\n",
       "      <th>count</th>\n",
       "      <td>3202.000000</td>\n",
       "      <td>3202.000000</td>\n",
       "      <td>3202.000000</td>\n",
       "      <td>3202.000000</td>\n",
       "      <td>3202.000000</td>\n",
       "      <td>3202.000000</td>\n",
       "      <td>3202.000000</td>\n",
       "      <td>3.202000e+03</td>\n",
       "      <td>3.202000e+03</td>\n",
       "      <td>2456.000000</td>\n",
       "      <td>3.202000e+03</td>\n",
       "      <td>3202.000000</td>\n",
       "    </tr>\n",
       "    <tr>\n",
       "      <th>mean</th>\n",
       "      <td>2189.871065</td>\n",
       "      <td>2191.537883</td>\n",
       "      <td>2219.934510</td>\n",
       "      <td>2162.215209</td>\n",
       "      <td>2190.307917</td>\n",
       "      <td>2190.412196</td>\n",
       "      <td>2191.294288</td>\n",
       "      <td>4.114639e+05</td>\n",
       "      <td>9.644024e+13</td>\n",
       "      <td>27487.876629</td>\n",
       "      <td>1.944837e+05</td>\n",
       "      <td>0.509401</td>\n",
       "    </tr>\n",
       "    <tr>\n",
       "      <th>std</th>\n",
       "      <td>774.552766</td>\n",
       "      <td>776.148452</td>\n",
       "      <td>781.289529</td>\n",
       "      <td>770.192017</td>\n",
       "      <td>775.065896</td>\n",
       "      <td>775.095766</td>\n",
       "      <td>775.657353</td>\n",
       "      <td>3.911067e+05</td>\n",
       "      <td>1.174628e+14</td>\n",
       "      <td>19453.983219</td>\n",
       "      <td>1.707922e+05</td>\n",
       "      <td>0.172869</td>\n",
       "    </tr>\n",
       "    <tr>\n",
       "      <th>min</th>\n",
       "      <td>301.900000</td>\n",
       "      <td>262.000000</td>\n",
       "      <td>307.050000</td>\n",
       "      <td>262.000000</td>\n",
       "      <td>300.000000</td>\n",
       "      <td>301.900000</td>\n",
       "      <td>301.980000</td>\n",
       "      <td>4.966000e+03</td>\n",
       "      <td>2.497018e+11</td>\n",
       "      <td>451.000000</td>\n",
       "      <td>1.290000e+03</td>\n",
       "      <td>0.073000</td>\n",
       "    </tr>\n",
       "    <tr>\n",
       "      <th>25%</th>\n",
       "      <td>1661.925000</td>\n",
       "      <td>1663.250000</td>\n",
       "      <td>1693.775000</td>\n",
       "      <td>1636.362500</td>\n",
       "      <td>1660.512500</td>\n",
       "      <td>1661.925000</td>\n",
       "      <td>1664.845000</td>\n",
       "      <td>2.054658e+05</td>\n",
       "      <td>4.228246e+13</td>\n",
       "      <td>16041.250000</td>\n",
       "      <td>9.553850e+04</td>\n",
       "      <td>0.391225</td>\n",
       "    </tr>\n",
       "    <tr>\n",
       "      <th>50%</th>\n",
       "      <td>2269.950000</td>\n",
       "      <td>2270.000000</td>\n",
       "      <td>2305.575000</td>\n",
       "      <td>2240.250000</td>\n",
       "      <td>2270.750000</td>\n",
       "      <td>2270.225000</td>\n",
       "      <td>2269.900000</td>\n",
       "      <td>3.125365e+05</td>\n",
       "      <td>6.885321e+13</td>\n",
       "      <td>22822.000000</td>\n",
       "      <td>1.537390e+05</td>\n",
       "      <td>0.520000</td>\n",
       "    </tr>\n",
       "    <tr>\n",
       "      <th>75%</th>\n",
       "      <td>2808.437500</td>\n",
       "      <td>2810.000000</td>\n",
       "      <td>2834.950000</td>\n",
       "      <td>2778.362500</td>\n",
       "      <td>2808.975000</td>\n",
       "      <td>2808.487500</td>\n",
       "      <td>2808.565000</td>\n",
       "      <td>5.000315e+05</td>\n",
       "      <td>1.107763e+14</td>\n",
       "      <td>32952.250000</td>\n",
       "      <td>2.456250e+05</td>\n",
       "      <td>0.626675</td>\n",
       "    </tr>\n",
       "    <tr>\n",
       "      <th>max</th>\n",
       "      <td>4237.450000</td>\n",
       "      <td>4260.000000</td>\n",
       "      <td>4361.400000</td>\n",
       "      <td>4200.000000</td>\n",
       "      <td>4236.000000</td>\n",
       "      <td>4237.450000</td>\n",
       "      <td>4260.500000</td>\n",
       "      <td>8.537143e+06</td>\n",
       "      <td>3.436565e+15</td>\n",
       "      <td>398043.000000</td>\n",
       "      <td>4.154492e+06</td>\n",
       "      <td>1.000000</td>\n",
       "    </tr>\n",
       "  </tbody>\n",
       "</table>\n",
       "</div>"
      ],
      "text/plain": [
       "        Prev Close         Open         High          Low         Last  \\\n",
       "count  3202.000000  3202.000000  3202.000000  3202.000000  3202.000000   \n",
       "mean   2189.871065  2191.537883  2219.934510  2162.215209  2190.307917   \n",
       "std     774.552766   776.148452   781.289529   770.192017   775.065896   \n",
       "min     301.900000   262.000000   307.050000   262.000000   300.000000   \n",
       "25%    1661.925000  1663.250000  1693.775000  1636.362500  1660.512500   \n",
       "50%    2269.950000  2270.000000  2305.575000  2240.250000  2270.750000   \n",
       "75%    2808.437500  2810.000000  2834.950000  2778.362500  2808.975000   \n",
       "max    4237.450000  4260.000000  4361.400000  4200.000000  4236.000000   \n",
       "\n",
       "             Close         VWAP        Volume      Turnover         Trades  \\\n",
       "count  3202.000000  3202.000000  3.202000e+03  3.202000e+03    2456.000000   \n",
       "mean   2190.412196  2191.294288  4.114639e+05  9.644024e+13   27487.876629   \n",
       "std     775.095766   775.657353  3.911067e+05  1.174628e+14   19453.983219   \n",
       "min     301.900000   301.980000  4.966000e+03  2.497018e+11     451.000000   \n",
       "25%    1661.925000  1664.845000  2.054658e+05  4.228246e+13   16041.250000   \n",
       "50%    2270.225000  2269.900000  3.125365e+05  6.885321e+13   22822.000000   \n",
       "75%    2808.487500  2808.565000  5.000315e+05  1.107763e+14   32952.250000   \n",
       "max    4237.450000  4260.500000  8.537143e+06  3.436565e+15  398043.000000   \n",
       "\n",
       "       Deliverable Volume  %Deliverble  \n",
       "count        3.202000e+03  3202.000000  \n",
       "mean         1.944837e+05     0.509401  \n",
       "std          1.707922e+05     0.172869  \n",
       "min          1.290000e+03     0.073000  \n",
       "25%          9.553850e+04     0.391225  \n",
       "50%          1.537390e+05     0.520000  \n",
       "75%          2.456250e+05     0.626675  \n",
       "max          4.154492e+06     1.000000  "
      ]
     },
     "execution_count": 10,
     "metadata": {},
     "output_type": "execute_result"
    }
   ],
   "source": [
    "#Following command gives some basis stats about various numeric columns\n",
    "df.describe()"
   ]
  },
  {
   "cell_type": "markdown",
   "id": "dc33edde",
   "metadata": {},
   "source": [
    "Checking shape of dataset"
   ]
  },
  {
   "cell_type": "code",
   "execution_count": 11,
   "id": "9b23de3c",
   "metadata": {},
   "outputs": [
    {
     "data": {
      "text/plain": [
       "(3202, 15)"
      ]
     },
     "execution_count": 11,
     "metadata": {},
     "output_type": "execute_result"
    }
   ],
   "source": [
    "df.shape"
   ]
  },
  {
   "cell_type": "code",
   "execution_count": 12,
   "id": "76f0115a",
   "metadata": {},
   "outputs": [
    {
     "data": {
      "text/plain": [
       "array(['EQ'], dtype=object)"
      ]
     },
     "execution_count": 12,
     "metadata": {},
     "output_type": "execute_result"
    }
   ],
   "source": [
    "df.Series.unique()"
   ]
  },
  {
   "cell_type": "code",
   "execution_count": 13,
   "id": "d8cabd81",
   "metadata": {},
   "outputs": [
    {
     "data": {
      "text/plain": [
       "array(['BAJAJ-AUTO'], dtype=object)"
      ]
     },
     "execution_count": 13,
     "metadata": {},
     "output_type": "execute_result"
    }
   ],
   "source": [
    "df.Symbol.unique()"
   ]
  },
  {
   "cell_type": "markdown",
   "id": "c8afdba0",
   "metadata": {},
   "source": [
    "Checking Null valures in data set"
   ]
  },
  {
   "cell_type": "code",
   "execution_count": 14,
   "id": "865f15ba",
   "metadata": {},
   "outputs": [
    {
     "data": {
      "text/plain": [
       "Date                    0\n",
       "Symbol                  0\n",
       "Series                  0\n",
       "Prev Close              0\n",
       "Open                    0\n",
       "High                    0\n",
       "Low                     0\n",
       "Last                    0\n",
       "Close                   0\n",
       "VWAP                    0\n",
       "Volume                  0\n",
       "Turnover                0\n",
       "Trades                746\n",
       "Deliverable Volume      0\n",
       "%Deliverble             0\n",
       "dtype: int64"
      ]
     },
     "execution_count": 14,
     "metadata": {},
     "output_type": "execute_result"
    }
   ],
   "source": [
    "df.isnull().sum()"
   ]
  },
  {
   "cell_type": "code",
   "execution_count": 15,
   "id": "b54156b0",
   "metadata": {},
   "outputs": [
    {
     "data": {
      "text/plain": [
       "BAJAJ-AUTO    3202\n",
       "Name: Symbol, dtype: int64"
      ]
     },
     "execution_count": 15,
     "metadata": {},
     "output_type": "execute_result"
    }
   ],
   "source": [
    "df.Symbol.value_counts()"
   ]
  },
  {
   "cell_type": "markdown",
   "id": "4a198605",
   "metadata": {},
   "source": [
    "Values for Trade column are missing for the first few year.\n",
    "\n",
    "Coming to the Deliverable Volume and deliverable%,they seem to be missing here and there"
   ]
  },
  {
   "cell_type": "code",
   "execution_count": 16,
   "id": "5be5ea5e",
   "metadata": {},
   "outputs": [
    {
     "data": {
      "text/html": [
       "<div>\n",
       "<style scoped>\n",
       "    .dataframe tbody tr th:only-of-type {\n",
       "        vertical-align: middle;\n",
       "    }\n",
       "\n",
       "    .dataframe tbody tr th {\n",
       "        vertical-align: top;\n",
       "    }\n",
       "\n",
       "    .dataframe thead th {\n",
       "        text-align: right;\n",
       "    }\n",
       "</style>\n",
       "<table border=\"1\" class=\"dataframe\">\n",
       "  <thead>\n",
       "    <tr style=\"text-align: right;\">\n",
       "      <th></th>\n",
       "      <th>Date</th>\n",
       "      <th>Symbol</th>\n",
       "      <th>Series</th>\n",
       "      <th>Prev Close</th>\n",
       "      <th>Open</th>\n",
       "      <th>High</th>\n",
       "      <th>Low</th>\n",
       "      <th>Last</th>\n",
       "      <th>Close</th>\n",
       "      <th>VWAP</th>\n",
       "      <th>Volume</th>\n",
       "      <th>Turnover</th>\n",
       "      <th>Trades</th>\n",
       "      <th>Deliverable Volume</th>\n",
       "      <th>%Deliverble</th>\n",
       "    </tr>\n",
       "  </thead>\n",
       "  <tbody>\n",
       "    <tr>\n",
       "      <th>1858</th>\n",
       "      <td>2015-11-24</td>\n",
       "      <td>BAJAJ-AUTO</td>\n",
       "      <td>EQ</td>\n",
       "      <td>2522.75</td>\n",
       "      <td>2515.00</td>\n",
       "      <td>2544.90</td>\n",
       "      <td>2471.00</td>\n",
       "      <td>2477.00</td>\n",
       "      <td>2476.80</td>\n",
       "      <td>2510.76</td>\n",
       "      <td>325768</td>\n",
       "      <td>8.179252e+13</td>\n",
       "      <td>26825.0</td>\n",
       "      <td>174321</td>\n",
       "      <td>0.5351</td>\n",
       "    </tr>\n",
       "    <tr>\n",
       "      <th>1073</th>\n",
       "      <td>2012-09-18</td>\n",
       "      <td>BAJAJ-AUTO</td>\n",
       "      <td>EQ</td>\n",
       "      <td>1738.60</td>\n",
       "      <td>1745.00</td>\n",
       "      <td>1755.00</td>\n",
       "      <td>1734.15</td>\n",
       "      <td>1748.00</td>\n",
       "      <td>1748.55</td>\n",
       "      <td>1744.36</td>\n",
       "      <td>308553</td>\n",
       "      <td>5.382260e+13</td>\n",
       "      <td>13899.0</td>\n",
       "      <td>225113</td>\n",
       "      <td>0.7296</td>\n",
       "    </tr>\n",
       "    <tr>\n",
       "      <th>2201</th>\n",
       "      <td>2017-04-17</td>\n",
       "      <td>BAJAJ-AUTO</td>\n",
       "      <td>EQ</td>\n",
       "      <td>2848.15</td>\n",
       "      <td>2844.90</td>\n",
       "      <td>2858.75</td>\n",
       "      <td>2823.55</td>\n",
       "      <td>2847.50</td>\n",
       "      <td>2852.15</td>\n",
       "      <td>2848.43</td>\n",
       "      <td>145680</td>\n",
       "      <td>4.149589e+13</td>\n",
       "      <td>12339.0</td>\n",
       "      <td>94499</td>\n",
       "      <td>0.6487</td>\n",
       "    </tr>\n",
       "    <tr>\n",
       "      <th>837</th>\n",
       "      <td>2011-10-12</td>\n",
       "      <td>BAJAJ-AUTO</td>\n",
       "      <td>EQ</td>\n",
       "      <td>1578.75</td>\n",
       "      <td>1585.00</td>\n",
       "      <td>1616.95</td>\n",
       "      <td>1557.00</td>\n",
       "      <td>1587.00</td>\n",
       "      <td>1586.25</td>\n",
       "      <td>1589.60</td>\n",
       "      <td>626689</td>\n",
       "      <td>9.961865e+13</td>\n",
       "      <td>29361.0</td>\n",
       "      <td>352360</td>\n",
       "      <td>0.5623</td>\n",
       "    </tr>\n",
       "    <tr>\n",
       "      <th>1368</th>\n",
       "      <td>2013-11-27</td>\n",
       "      <td>BAJAJ-AUTO</td>\n",
       "      <td>EQ</td>\n",
       "      <td>1938.60</td>\n",
       "      <td>1941.10</td>\n",
       "      <td>1964.00</td>\n",
       "      <td>1924.50</td>\n",
       "      <td>1950.20</td>\n",
       "      <td>1949.10</td>\n",
       "      <td>1948.66</td>\n",
       "      <td>272809</td>\n",
       "      <td>5.316123e+13</td>\n",
       "      <td>18020.0</td>\n",
       "      <td>150914</td>\n",
       "      <td>0.5532</td>\n",
       "    </tr>\n",
       "    <tr>\n",
       "      <th>2394</th>\n",
       "      <td>2018-01-22</td>\n",
       "      <td>BAJAJ-AUTO</td>\n",
       "      <td>EQ</td>\n",
       "      <td>3210.40</td>\n",
       "      <td>3200.00</td>\n",
       "      <td>3283.00</td>\n",
       "      <td>3200.00</td>\n",
       "      <td>3265.00</td>\n",
       "      <td>3274.50</td>\n",
       "      <td>3255.71</td>\n",
       "      <td>223845</td>\n",
       "      <td>7.287753e+13</td>\n",
       "      <td>15871.0</td>\n",
       "      <td>88236</td>\n",
       "      <td>0.3942</td>\n",
       "    </tr>\n",
       "    <tr>\n",
       "      <th>203</th>\n",
       "      <td>2009-03-25</td>\n",
       "      <td>BAJAJ-AUTO</td>\n",
       "      <td>EQ</td>\n",
       "      <td>588.55</td>\n",
       "      <td>584.95</td>\n",
       "      <td>628.00</td>\n",
       "      <td>573.00</td>\n",
       "      <td>617.00</td>\n",
       "      <td>615.95</td>\n",
       "      <td>609.56</td>\n",
       "      <td>112348</td>\n",
       "      <td>6.848262e+12</td>\n",
       "      <td>NaN</td>\n",
       "      <td>48452</td>\n",
       "      <td>0.4313</td>\n",
       "    </tr>\n",
       "    <tr>\n",
       "      <th>1374</th>\n",
       "      <td>2013-12-05</td>\n",
       "      <td>BAJAJ-AUTO</td>\n",
       "      <td>EQ</td>\n",
       "      <td>1931.75</td>\n",
       "      <td>1970.00</td>\n",
       "      <td>1973.00</td>\n",
       "      <td>1935.00</td>\n",
       "      <td>1936.05</td>\n",
       "      <td>1940.25</td>\n",
       "      <td>1950.50</td>\n",
       "      <td>304627</td>\n",
       "      <td>5.941738e+13</td>\n",
       "      <td>26842.0</td>\n",
       "      <td>150537</td>\n",
       "      <td>0.4942</td>\n",
       "    </tr>\n",
       "    <tr>\n",
       "      <th>2123</th>\n",
       "      <td>2016-12-21</td>\n",
       "      <td>BAJAJ-AUTO</td>\n",
       "      <td>EQ</td>\n",
       "      <td>2585.95</td>\n",
       "      <td>2600.10</td>\n",
       "      <td>2632.00</td>\n",
       "      <td>2579.00</td>\n",
       "      <td>2586.00</td>\n",
       "      <td>2585.25</td>\n",
       "      <td>2601.28</td>\n",
       "      <td>140989</td>\n",
       "      <td>3.667525e+13</td>\n",
       "      <td>15764.0</td>\n",
       "      <td>61200</td>\n",
       "      <td>0.4341</td>\n",
       "    </tr>\n",
       "    <tr>\n",
       "      <th>2040</th>\n",
       "      <td>2016-08-19</td>\n",
       "      <td>BAJAJ-AUTO</td>\n",
       "      <td>EQ</td>\n",
       "      <td>2946.10</td>\n",
       "      <td>2946.10</td>\n",
       "      <td>2948.95</td>\n",
       "      <td>2920.50</td>\n",
       "      <td>2930.70</td>\n",
       "      <td>2933.20</td>\n",
       "      <td>2932.97</td>\n",
       "      <td>92809</td>\n",
       "      <td>2.722063e+13</td>\n",
       "      <td>6776.0</td>\n",
       "      <td>37384</td>\n",
       "      <td>0.4028</td>\n",
       "    </tr>\n",
       "  </tbody>\n",
       "</table>\n",
       "</div>"
      ],
      "text/plain": [
       "            Date      Symbol Series  Prev Close     Open     High      Low  \\\n",
       "1858  2015-11-24  BAJAJ-AUTO     EQ     2522.75  2515.00  2544.90  2471.00   \n",
       "1073  2012-09-18  BAJAJ-AUTO     EQ     1738.60  1745.00  1755.00  1734.15   \n",
       "2201  2017-04-17  BAJAJ-AUTO     EQ     2848.15  2844.90  2858.75  2823.55   \n",
       "837   2011-10-12  BAJAJ-AUTO     EQ     1578.75  1585.00  1616.95  1557.00   \n",
       "1368  2013-11-27  BAJAJ-AUTO     EQ     1938.60  1941.10  1964.00  1924.50   \n",
       "2394  2018-01-22  BAJAJ-AUTO     EQ     3210.40  3200.00  3283.00  3200.00   \n",
       "203   2009-03-25  BAJAJ-AUTO     EQ      588.55   584.95   628.00   573.00   \n",
       "1374  2013-12-05  BAJAJ-AUTO     EQ     1931.75  1970.00  1973.00  1935.00   \n",
       "2123  2016-12-21  BAJAJ-AUTO     EQ     2585.95  2600.10  2632.00  2579.00   \n",
       "2040  2016-08-19  BAJAJ-AUTO     EQ     2946.10  2946.10  2948.95  2920.50   \n",
       "\n",
       "         Last    Close     VWAP  Volume      Turnover   Trades  \\\n",
       "1858  2477.00  2476.80  2510.76  325768  8.179252e+13  26825.0   \n",
       "1073  1748.00  1748.55  1744.36  308553  5.382260e+13  13899.0   \n",
       "2201  2847.50  2852.15  2848.43  145680  4.149589e+13  12339.0   \n",
       "837   1587.00  1586.25  1589.60  626689  9.961865e+13  29361.0   \n",
       "1368  1950.20  1949.10  1948.66  272809  5.316123e+13  18020.0   \n",
       "2394  3265.00  3274.50  3255.71  223845  7.287753e+13  15871.0   \n",
       "203    617.00   615.95   609.56  112348  6.848262e+12      NaN   \n",
       "1374  1936.05  1940.25  1950.50  304627  5.941738e+13  26842.0   \n",
       "2123  2586.00  2585.25  2601.28  140989  3.667525e+13  15764.0   \n",
       "2040  2930.70  2933.20  2932.97   92809  2.722063e+13   6776.0   \n",
       "\n",
       "      Deliverable Volume  %Deliverble  \n",
       "1858              174321       0.5351  \n",
       "1073              225113       0.7296  \n",
       "2201               94499       0.6487  \n",
       "837               352360       0.5623  \n",
       "1368              150914       0.5532  \n",
       "2394               88236       0.3942  \n",
       "203                48452       0.4313  \n",
       "1374              150537       0.4942  \n",
       "2123               61200       0.4341  \n",
       "2040               37384       0.4028  "
      ]
     },
     "execution_count": 16,
     "metadata": {},
     "output_type": "execute_result"
    }
   ],
   "source": [
    "\n",
    "df.sample(10)"
   ]
  },
  {
   "cell_type": "markdown",
   "id": "79e15117",
   "metadata": {},
   "source": [
    "row index with the first non-null value of trades column"
   ]
  },
  {
   "cell_type": "code",
   "execution_count": 17,
   "id": "6e7856c8",
   "metadata": {},
   "outputs": [
    {
     "data": {
      "text/plain": [
       "746"
      ]
     },
     "execution_count": 17,
     "metadata": {},
     "output_type": "execute_result"
    }
   ],
   "source": [
    "\n",
    "df.Trades.first_valid_index()"
   ]
  },
  {
   "cell_type": "markdown",
   "id": "9a824470",
   "metadata": {},
   "source": [
    "row index with the first non-null value of Deliverable Volume column"
   ]
  },
  {
   "cell_type": "code",
   "execution_count": 18,
   "id": "8c00aaff",
   "metadata": {},
   "outputs": [
    {
     "data": {
      "text/plain": [
       "0"
      ]
     },
     "execution_count": 18,
     "metadata": {},
     "output_type": "execute_result"
    }
   ],
   "source": [
    "\n",
    "df['Deliverable Volume'].first_valid_index()"
   ]
  },
  {
   "cell_type": "markdown",
   "id": "7220ced6",
   "metadata": {},
   "source": [
    "row index with the first non-null value of %Deliverable column"
   ]
  },
  {
   "cell_type": "code",
   "execution_count": 19,
   "id": "f2b4355b",
   "metadata": {},
   "outputs": [
    {
     "data": {
      "text/plain": [
       "0"
      ]
     },
     "execution_count": 19,
     "metadata": {},
     "output_type": "execute_result"
    }
   ],
   "source": [
    "\n",
    "df['%Deliverble'].first_valid_index()"
   ]
  },
  {
   "cell_type": "markdown",
   "id": "0a606470",
   "metadata": {},
   "source": []
  },
  {
   "cell_type": "code",
   "execution_count": 20,
   "id": "5fc9a972",
   "metadata": {},
   "outputs": [
    {
     "data": {
      "text/html": [
       "<div>\n",
       "<style scoped>\n",
       "    .dataframe tbody tr th:only-of-type {\n",
       "        vertical-align: middle;\n",
       "    }\n",
       "\n",
       "    .dataframe tbody tr th {\n",
       "        vertical-align: top;\n",
       "    }\n",
       "\n",
       "    .dataframe thead th {\n",
       "        text-align: right;\n",
       "    }\n",
       "</style>\n",
       "<table border=\"1\" class=\"dataframe\">\n",
       "  <thead>\n",
       "    <tr style=\"text-align: right;\">\n",
       "      <th></th>\n",
       "      <th>Date</th>\n",
       "      <th>Symbol</th>\n",
       "      <th>Series</th>\n",
       "      <th>Prev Close</th>\n",
       "      <th>Open</th>\n",
       "      <th>High</th>\n",
       "      <th>Low</th>\n",
       "      <th>Last</th>\n",
       "      <th>Close</th>\n",
       "      <th>VWAP</th>\n",
       "      <th>Volume</th>\n",
       "      <th>Turnover</th>\n",
       "      <th>Trades</th>\n",
       "      <th>Deliverable Volume</th>\n",
       "      <th>%Deliverble</th>\n",
       "    </tr>\n",
       "  </thead>\n",
       "  <tbody>\n",
       "    <tr>\n",
       "      <th>490</th>\n",
       "      <td>2010-05-27</td>\n",
       "      <td>BAJAJ-AUTO</td>\n",
       "      <td>EQ</td>\n",
       "      <td>2082.75</td>\n",
       "      <td>2082.75</td>\n",
       "      <td>2142.45</td>\n",
       "      <td>2062.40</td>\n",
       "      <td>2110.0</td>\n",
       "      <td>2114.80</td>\n",
       "      <td>2101.41</td>\n",
       "      <td>184276</td>\n",
       "      <td>3.872388e+13</td>\n",
       "      <td>NaN</td>\n",
       "      <td>100207</td>\n",
       "      <td>0.5438</td>\n",
       "    </tr>\n",
       "    <tr>\n",
       "      <th>491</th>\n",
       "      <td>2010-05-28</td>\n",
       "      <td>BAJAJ-AUTO</td>\n",
       "      <td>EQ</td>\n",
       "      <td>2114.80</td>\n",
       "      <td>2145.00</td>\n",
       "      <td>2190.00</td>\n",
       "      <td>2125.20</td>\n",
       "      <td>2172.5</td>\n",
       "      <td>2163.40</td>\n",
       "      <td>2152.87</td>\n",
       "      <td>189817</td>\n",
       "      <td>4.086513e+13</td>\n",
       "      <td>NaN</td>\n",
       "      <td>114730</td>\n",
       "      <td>0.6044</td>\n",
       "    </tr>\n",
       "    <tr>\n",
       "      <th>492</th>\n",
       "      <td>2010-05-31</td>\n",
       "      <td>BAJAJ-AUTO</td>\n",
       "      <td>EQ</td>\n",
       "      <td>2163.40</td>\n",
       "      <td>2165.00</td>\n",
       "      <td>2226.90</td>\n",
       "      <td>2158.00</td>\n",
       "      <td>2220.2</td>\n",
       "      <td>2209.35</td>\n",
       "      <td>2191.98</td>\n",
       "      <td>147837</td>\n",
       "      <td>3.240554e+13</td>\n",
       "      <td>NaN</td>\n",
       "      <td>88246</td>\n",
       "      <td>0.5969</td>\n",
       "    </tr>\n",
       "    <tr>\n",
       "      <th>493</th>\n",
       "      <td>2010-06-01</td>\n",
       "      <td>BAJAJ-AUTO</td>\n",
       "      <td>EQ</td>\n",
       "      <td>2209.35</td>\n",
       "      <td>2206.50</td>\n",
       "      <td>2214.75</td>\n",
       "      <td>2153.60</td>\n",
       "      <td>2158.0</td>\n",
       "      <td>2163.60</td>\n",
       "      <td>2187.38</td>\n",
       "      <td>134450</td>\n",
       "      <td>2.940934e+13</td>\n",
       "      <td>NaN</td>\n",
       "      <td>54623</td>\n",
       "      <td>0.4063</td>\n",
       "    </tr>\n",
       "    <tr>\n",
       "      <th>494</th>\n",
       "      <td>2010-06-02</td>\n",
       "      <td>BAJAJ-AUTO</td>\n",
       "      <td>EQ</td>\n",
       "      <td>2163.60</td>\n",
       "      <td>2164.10</td>\n",
       "      <td>2219.00</td>\n",
       "      <td>2164.00</td>\n",
       "      <td>2212.1</td>\n",
       "      <td>2205.35</td>\n",
       "      <td>2190.10</td>\n",
       "      <td>106858</td>\n",
       "      <td>2.340300e+13</td>\n",
       "      <td>NaN</td>\n",
       "      <td>43423</td>\n",
       "      <td>0.4064</td>\n",
       "    </tr>\n",
       "    <tr>\n",
       "      <th>495</th>\n",
       "      <td>2010-06-03</td>\n",
       "      <td>BAJAJ-AUTO</td>\n",
       "      <td>EQ</td>\n",
       "      <td>2205.35</td>\n",
       "      <td>2224.00</td>\n",
       "      <td>2246.00</td>\n",
       "      <td>2192.35</td>\n",
       "      <td>2193.1</td>\n",
       "      <td>2198.50</td>\n",
       "      <td>2219.12</td>\n",
       "      <td>204604</td>\n",
       "      <td>4.540410e+13</td>\n",
       "      <td>NaN</td>\n",
       "      <td>111945</td>\n",
       "      <td>0.5471</td>\n",
       "    </tr>\n",
       "    <tr>\n",
       "      <th>496</th>\n",
       "      <td>2010-06-04</td>\n",
       "      <td>BAJAJ-AUTO</td>\n",
       "      <td>EQ</td>\n",
       "      <td>2198.50</td>\n",
       "      <td>2198.00</td>\n",
       "      <td>2229.00</td>\n",
       "      <td>2182.00</td>\n",
       "      <td>2186.0</td>\n",
       "      <td>2185.10</td>\n",
       "      <td>2193.22</td>\n",
       "      <td>110274</td>\n",
       "      <td>2.418551e+13</td>\n",
       "      <td>NaN</td>\n",
       "      <td>51034</td>\n",
       "      <td>0.4628</td>\n",
       "    </tr>\n",
       "    <tr>\n",
       "      <th>497</th>\n",
       "      <td>2010-06-07</td>\n",
       "      <td>BAJAJ-AUTO</td>\n",
       "      <td>EQ</td>\n",
       "      <td>2185.10</td>\n",
       "      <td>2168.00</td>\n",
       "      <td>2198.40</td>\n",
       "      <td>2132.10</td>\n",
       "      <td>2179.9</td>\n",
       "      <td>2184.30</td>\n",
       "      <td>2177.66</td>\n",
       "      <td>229905</td>\n",
       "      <td>5.006550e+13</td>\n",
       "      <td>NaN</td>\n",
       "      <td>156268</td>\n",
       "      <td>0.6797</td>\n",
       "    </tr>\n",
       "    <tr>\n",
       "      <th>498</th>\n",
       "      <td>2010-06-08</td>\n",
       "      <td>BAJAJ-AUTO</td>\n",
       "      <td>EQ</td>\n",
       "      <td>2184.30</td>\n",
       "      <td>2180.00</td>\n",
       "      <td>2217.00</td>\n",
       "      <td>2170.65</td>\n",
       "      <td>2192.0</td>\n",
       "      <td>2194.65</td>\n",
       "      <td>2204.60</td>\n",
       "      <td>134299</td>\n",
       "      <td>2.960749e+13</td>\n",
       "      <td>NaN</td>\n",
       "      <td>80949</td>\n",
       "      <td>0.6028</td>\n",
       "    </tr>\n",
       "    <tr>\n",
       "      <th>499</th>\n",
       "      <td>2010-06-09</td>\n",
       "      <td>BAJAJ-AUTO</td>\n",
       "      <td>EQ</td>\n",
       "      <td>2194.65</td>\n",
       "      <td>2202.00</td>\n",
       "      <td>2215.00</td>\n",
       "      <td>2186.10</td>\n",
       "      <td>2196.0</td>\n",
       "      <td>2194.40</td>\n",
       "      <td>2200.22</td>\n",
       "      <td>92683</td>\n",
       "      <td>2.039233e+13</td>\n",
       "      <td>NaN</td>\n",
       "      <td>47266</td>\n",
       "      <td>0.5100</td>\n",
       "    </tr>\n",
       "    <tr>\n",
       "      <th>500</th>\n",
       "      <td>2010-06-10</td>\n",
       "      <td>BAJAJ-AUTO</td>\n",
       "      <td>EQ</td>\n",
       "      <td>2194.40</td>\n",
       "      <td>2194.40</td>\n",
       "      <td>2275.00</td>\n",
       "      <td>2194.40</td>\n",
       "      <td>2271.0</td>\n",
       "      <td>2242.70</td>\n",
       "      <td>2223.36</td>\n",
       "      <td>148836</td>\n",
       "      <td>3.309161e+13</td>\n",
       "      <td>NaN</td>\n",
       "      <td>85537</td>\n",
       "      <td>0.5747</td>\n",
       "    </tr>\n",
       "  </tbody>\n",
       "</table>\n",
       "</div>"
      ],
      "text/plain": [
       "           Date      Symbol Series  Prev Close     Open     High      Low  \\\n",
       "490  2010-05-27  BAJAJ-AUTO     EQ     2082.75  2082.75  2142.45  2062.40   \n",
       "491  2010-05-28  BAJAJ-AUTO     EQ     2114.80  2145.00  2190.00  2125.20   \n",
       "492  2010-05-31  BAJAJ-AUTO     EQ     2163.40  2165.00  2226.90  2158.00   \n",
       "493  2010-06-01  BAJAJ-AUTO     EQ     2209.35  2206.50  2214.75  2153.60   \n",
       "494  2010-06-02  BAJAJ-AUTO     EQ     2163.60  2164.10  2219.00  2164.00   \n",
       "495  2010-06-03  BAJAJ-AUTO     EQ     2205.35  2224.00  2246.00  2192.35   \n",
       "496  2010-06-04  BAJAJ-AUTO     EQ     2198.50  2198.00  2229.00  2182.00   \n",
       "497  2010-06-07  BAJAJ-AUTO     EQ     2185.10  2168.00  2198.40  2132.10   \n",
       "498  2010-06-08  BAJAJ-AUTO     EQ     2184.30  2180.00  2217.00  2170.65   \n",
       "499  2010-06-09  BAJAJ-AUTO     EQ     2194.65  2202.00  2215.00  2186.10   \n",
       "500  2010-06-10  BAJAJ-AUTO     EQ     2194.40  2194.40  2275.00  2194.40   \n",
       "\n",
       "       Last    Close     VWAP  Volume      Turnover  Trades  \\\n",
       "490  2110.0  2114.80  2101.41  184276  3.872388e+13     NaN   \n",
       "491  2172.5  2163.40  2152.87  189817  4.086513e+13     NaN   \n",
       "492  2220.2  2209.35  2191.98  147837  3.240554e+13     NaN   \n",
       "493  2158.0  2163.60  2187.38  134450  2.940934e+13     NaN   \n",
       "494  2212.1  2205.35  2190.10  106858  2.340300e+13     NaN   \n",
       "495  2193.1  2198.50  2219.12  204604  4.540410e+13     NaN   \n",
       "496  2186.0  2185.10  2193.22  110274  2.418551e+13     NaN   \n",
       "497  2179.9  2184.30  2177.66  229905  5.006550e+13     NaN   \n",
       "498  2192.0  2194.65  2204.60  134299  2.960749e+13     NaN   \n",
       "499  2196.0  2194.40  2200.22   92683  2.039233e+13     NaN   \n",
       "500  2271.0  2242.70  2223.36  148836  3.309161e+13     NaN   \n",
       "\n",
       "     Deliverable Volume  %Deliverble  \n",
       "490              100207       0.5438  \n",
       "491              114730       0.6044  \n",
       "492               88246       0.5969  \n",
       "493               54623       0.4063  \n",
       "494               43423       0.4064  \n",
       "495              111945       0.5471  \n",
       "496               51034       0.4628  \n",
       "497              156268       0.6797  \n",
       "498               80949       0.6028  \n",
       "499               47266       0.5100  \n",
       "500               85537       0.5747  "
      ]
     },
     "execution_count": 20,
     "metadata": {},
     "output_type": "execute_result"
    }
   ],
   "source": [
    "# also we can do to know more about the data.\n",
    "df.loc[490:500]"
   ]
  },
  {
   "cell_type": "code",
   "execution_count": 21,
   "id": "5dd9c586",
   "metadata": {},
   "outputs": [
    {
     "data": {
      "text/html": [
       "<div>\n",
       "<style scoped>\n",
       "    .dataframe tbody tr th:only-of-type {\n",
       "        vertical-align: middle;\n",
       "    }\n",
       "\n",
       "    .dataframe tbody tr th {\n",
       "        vertical-align: top;\n",
       "    }\n",
       "\n",
       "    .dataframe thead th {\n",
       "        text-align: right;\n",
       "    }\n",
       "</style>\n",
       "<table border=\"1\" class=\"dataframe\">\n",
       "  <thead>\n",
       "    <tr style=\"text-align: right;\">\n",
       "      <th></th>\n",
       "      <th>Date</th>\n",
       "      <th>Symbol</th>\n",
       "      <th>Series</th>\n",
       "      <th>Prev Close</th>\n",
       "      <th>Open</th>\n",
       "      <th>High</th>\n",
       "      <th>Low</th>\n",
       "      <th>Last</th>\n",
       "      <th>Close</th>\n",
       "      <th>VWAP</th>\n",
       "      <th>Volume</th>\n",
       "      <th>Turnover</th>\n",
       "      <th>Trades</th>\n",
       "      <th>Deliverable Volume</th>\n",
       "      <th>%Deliverble</th>\n",
       "    </tr>\n",
       "  </thead>\n",
       "  <tbody>\n",
       "    <tr>\n",
       "      <th>2845</th>\n",
       "      <td>2019-11-26</td>\n",
       "      <td>BAJAJ-AUTO</td>\n",
       "      <td>EQ</td>\n",
       "      <td>3195.65</td>\n",
       "      <td>3199.90</td>\n",
       "      <td>3228.00</td>\n",
       "      <td>3168.75</td>\n",
       "      <td>3184.80</td>\n",
       "      <td>3178.15</td>\n",
       "      <td>3188.57</td>\n",
       "      <td>628851</td>\n",
       "      <td>2.005135e+14</td>\n",
       "      <td>46021.0</td>\n",
       "      <td>345311</td>\n",
       "      <td>0.5491</td>\n",
       "    </tr>\n",
       "    <tr>\n",
       "      <th>2846</th>\n",
       "      <td>2019-11-27</td>\n",
       "      <td>BAJAJ-AUTO</td>\n",
       "      <td>EQ</td>\n",
       "      <td>3178.15</td>\n",
       "      <td>3188.15</td>\n",
       "      <td>3217.25</td>\n",
       "      <td>3180.00</td>\n",
       "      <td>3212.05</td>\n",
       "      <td>3212.05</td>\n",
       "      <td>3202.00</td>\n",
       "      <td>308282</td>\n",
       "      <td>9.871180e+13</td>\n",
       "      <td>29559.0</td>\n",
       "      <td>143447</td>\n",
       "      <td>0.4653</td>\n",
       "    </tr>\n",
       "    <tr>\n",
       "      <th>2847</th>\n",
       "      <td>2019-11-28</td>\n",
       "      <td>BAJAJ-AUTO</td>\n",
       "      <td>EQ</td>\n",
       "      <td>3212.05</td>\n",
       "      <td>3210.00</td>\n",
       "      <td>3216.75</td>\n",
       "      <td>3182.80</td>\n",
       "      <td>3182.85</td>\n",
       "      <td>3196.40</td>\n",
       "      <td>3197.93</td>\n",
       "      <td>194094</td>\n",
       "      <td>6.206985e+13</td>\n",
       "      <td>24450.0</td>\n",
       "      <td>76205</td>\n",
       "      <td>0.3926</td>\n",
       "    </tr>\n",
       "    <tr>\n",
       "      <th>2848</th>\n",
       "      <td>2019-11-29</td>\n",
       "      <td>BAJAJ-AUTO</td>\n",
       "      <td>EQ</td>\n",
       "      <td>3196.40</td>\n",
       "      <td>3186.00</td>\n",
       "      <td>3196.00</td>\n",
       "      <td>3147.10</td>\n",
       "      <td>3178.85</td>\n",
       "      <td>3176.00</td>\n",
       "      <td>3168.89</td>\n",
       "      <td>203765</td>\n",
       "      <td>6.457085e+13</td>\n",
       "      <td>23629.0</td>\n",
       "      <td>83746</td>\n",
       "      <td>0.4110</td>\n",
       "    </tr>\n",
       "    <tr>\n",
       "      <th>2849</th>\n",
       "      <td>2019-12-02</td>\n",
       "      <td>BAJAJ-AUTO</td>\n",
       "      <td>EQ</td>\n",
       "      <td>3176.00</td>\n",
       "      <td>3163.10</td>\n",
       "      <td>3217.40</td>\n",
       "      <td>3142.05</td>\n",
       "      <td>3162.45</td>\n",
       "      <td>3159.25</td>\n",
       "      <td>3171.94</td>\n",
       "      <td>474666</td>\n",
       "      <td>1.505610e+14</td>\n",
       "      <td>38843.0</td>\n",
       "      <td>199685</td>\n",
       "      <td>0.4207</td>\n",
       "    </tr>\n",
       "    <tr>\n",
       "      <th>2850</th>\n",
       "      <td>2019-12-03</td>\n",
       "      <td>BAJAJ-AUTO</td>\n",
       "      <td>EQ</td>\n",
       "      <td>3159.25</td>\n",
       "      <td>3167.00</td>\n",
       "      <td>3270.00</td>\n",
       "      <td>3167.00</td>\n",
       "      <td>3258.00</td>\n",
       "      <td>3259.75</td>\n",
       "      <td>3229.40</td>\n",
       "      <td>864612</td>\n",
       "      <td>2.792177e+14</td>\n",
       "      <td>46079.0</td>\n",
       "      <td>189706</td>\n",
       "      <td>0.2194</td>\n",
       "    </tr>\n",
       "    <tr>\n",
       "      <th>2851</th>\n",
       "      <td>2019-12-04</td>\n",
       "      <td>BAJAJ-AUTO</td>\n",
       "      <td>EQ</td>\n",
       "      <td>3259.75</td>\n",
       "      <td>3259.75</td>\n",
       "      <td>3278.00</td>\n",
       "      <td>3228.00</td>\n",
       "      <td>3250.00</td>\n",
       "      <td>3251.15</td>\n",
       "      <td>3251.36</td>\n",
       "      <td>458892</td>\n",
       "      <td>1.492025e+14</td>\n",
       "      <td>25795.0</td>\n",
       "      <td>103290</td>\n",
       "      <td>0.2251</td>\n",
       "    </tr>\n",
       "    <tr>\n",
       "      <th>2852</th>\n",
       "      <td>2019-12-05</td>\n",
       "      <td>BAJAJ-AUTO</td>\n",
       "      <td>EQ</td>\n",
       "      <td>3251.15</td>\n",
       "      <td>3240.00</td>\n",
       "      <td>3286.40</td>\n",
       "      <td>3225.85</td>\n",
       "      <td>3230.00</td>\n",
       "      <td>3243.10</td>\n",
       "      <td>3262.83</td>\n",
       "      <td>692533</td>\n",
       "      <td>2.259615e+14</td>\n",
       "      <td>38180.0</td>\n",
       "      <td>138558</td>\n",
       "      <td>0.2001</td>\n",
       "    </tr>\n",
       "    <tr>\n",
       "      <th>2853</th>\n",
       "      <td>2019-12-06</td>\n",
       "      <td>BAJAJ-AUTO</td>\n",
       "      <td>EQ</td>\n",
       "      <td>3243.10</td>\n",
       "      <td>3243.10</td>\n",
       "      <td>3258.00</td>\n",
       "      <td>3193.10</td>\n",
       "      <td>3210.00</td>\n",
       "      <td>3206.10</td>\n",
       "      <td>3220.84</td>\n",
       "      <td>275871</td>\n",
       "      <td>8.885353e+13</td>\n",
       "      <td>16415.0</td>\n",
       "      <td>114230</td>\n",
       "      <td>0.4141</td>\n",
       "    </tr>\n",
       "    <tr>\n",
       "      <th>2854</th>\n",
       "      <td>2019-12-09</td>\n",
       "      <td>BAJAJ-AUTO</td>\n",
       "      <td>EQ</td>\n",
       "      <td>3206.10</td>\n",
       "      <td>3223.90</td>\n",
       "      <td>3239.85</td>\n",
       "      <td>3202.30</td>\n",
       "      <td>3220.40</td>\n",
       "      <td>3225.55</td>\n",
       "      <td>3226.44</td>\n",
       "      <td>217098</td>\n",
       "      <td>7.004528e+13</td>\n",
       "      <td>20521.0</td>\n",
       "      <td>66866</td>\n",
       "      <td>0.3080</td>\n",
       "    </tr>\n",
       "    <tr>\n",
       "      <th>2855</th>\n",
       "      <td>2019-12-10</td>\n",
       "      <td>BAJAJ-AUTO</td>\n",
       "      <td>EQ</td>\n",
       "      <td>3225.55</td>\n",
       "      <td>3230.00</td>\n",
       "      <td>3240.00</td>\n",
       "      <td>3211.25</td>\n",
       "      <td>3229.00</td>\n",
       "      <td>3232.50</td>\n",
       "      <td>3225.14</td>\n",
       "      <td>278890</td>\n",
       "      <td>8.994593e+13</td>\n",
       "      <td>23116.0</td>\n",
       "      <td>122702</td>\n",
       "      <td>0.4400</td>\n",
       "    </tr>\n",
       "  </tbody>\n",
       "</table>\n",
       "</div>"
      ],
      "text/plain": [
       "            Date      Symbol Series  Prev Close     Open     High      Low  \\\n",
       "2845  2019-11-26  BAJAJ-AUTO     EQ     3195.65  3199.90  3228.00  3168.75   \n",
       "2846  2019-11-27  BAJAJ-AUTO     EQ     3178.15  3188.15  3217.25  3180.00   \n",
       "2847  2019-11-28  BAJAJ-AUTO     EQ     3212.05  3210.00  3216.75  3182.80   \n",
       "2848  2019-11-29  BAJAJ-AUTO     EQ     3196.40  3186.00  3196.00  3147.10   \n",
       "2849  2019-12-02  BAJAJ-AUTO     EQ     3176.00  3163.10  3217.40  3142.05   \n",
       "2850  2019-12-03  BAJAJ-AUTO     EQ     3159.25  3167.00  3270.00  3167.00   \n",
       "2851  2019-12-04  BAJAJ-AUTO     EQ     3259.75  3259.75  3278.00  3228.00   \n",
       "2852  2019-12-05  BAJAJ-AUTO     EQ     3251.15  3240.00  3286.40  3225.85   \n",
       "2853  2019-12-06  BAJAJ-AUTO     EQ     3243.10  3243.10  3258.00  3193.10   \n",
       "2854  2019-12-09  BAJAJ-AUTO     EQ     3206.10  3223.90  3239.85  3202.30   \n",
       "2855  2019-12-10  BAJAJ-AUTO     EQ     3225.55  3230.00  3240.00  3211.25   \n",
       "\n",
       "         Last    Close     VWAP  Volume      Turnover   Trades  \\\n",
       "2845  3184.80  3178.15  3188.57  628851  2.005135e+14  46021.0   \n",
       "2846  3212.05  3212.05  3202.00  308282  9.871180e+13  29559.0   \n",
       "2847  3182.85  3196.40  3197.93  194094  6.206985e+13  24450.0   \n",
       "2848  3178.85  3176.00  3168.89  203765  6.457085e+13  23629.0   \n",
       "2849  3162.45  3159.25  3171.94  474666  1.505610e+14  38843.0   \n",
       "2850  3258.00  3259.75  3229.40  864612  2.792177e+14  46079.0   \n",
       "2851  3250.00  3251.15  3251.36  458892  1.492025e+14  25795.0   \n",
       "2852  3230.00  3243.10  3262.83  692533  2.259615e+14  38180.0   \n",
       "2853  3210.00  3206.10  3220.84  275871  8.885353e+13  16415.0   \n",
       "2854  3220.40  3225.55  3226.44  217098  7.004528e+13  20521.0   \n",
       "2855  3229.00  3232.50  3225.14  278890  8.994593e+13  23116.0   \n",
       "\n",
       "      Deliverable Volume  %Deliverble  \n",
       "2845              345311       0.5491  \n",
       "2846              143447       0.4653  \n",
       "2847               76205       0.3926  \n",
       "2848               83746       0.4110  \n",
       "2849              199685       0.4207  \n",
       "2850              189706       0.2194  \n",
       "2851              103290       0.2251  \n",
       "2852              138558       0.2001  \n",
       "2853              114230       0.4141  \n",
       "2854               66866       0.3080  \n",
       "2855              122702       0.4400  "
      ]
     },
     "execution_count": 21,
     "metadata": {},
     "output_type": "execute_result"
    }
   ],
   "source": [
    "df.loc[2845:2855]"
   ]
  },
  {
   "cell_type": "markdown",
   "id": "fe3df43a",
   "metadata": {},
   "source": [
    "# Exploratory Analysis and Visualization\n",
    " importing matplotlib.pyplot and seaborn"
   ]
  },
  {
   "cell_type": "code",
   "execution_count": 22,
   "id": "c92e85cd",
   "metadata": {},
   "outputs": [],
   "source": [
    "import seaborn as sns\n",
    "import matplotlib\n",
    "import matplotlib.pyplot as plt\n",
    "%matplotlib inline"
   ]
  },
  {
   "cell_type": "markdown",
   "id": "000f2965",
   "metadata": {},
   "source": [
    "set the default parameters for graphs and plots"
   ]
  },
  {
   "cell_type": "code",
   "execution_count": 27,
   "id": "ccb8de7e",
   "metadata": {},
   "outputs": [],
   "source": [
    "sns.set_style('darkgrid')\n",
    "matplotlib.rcParams['font.size'] = 10\n",
    "matplotlib.rcParams['figure.figsize'] = (6, 3)\n",
    "matplotlib.rcParams['figure.facecolor'] = '#00000000'"
   ]
  },
  {
   "cell_type": "markdown",
   "id": "c52c8fe7",
   "metadata": {},
   "source": [
    "As we know that date column contain object ,Firstily we will convert object to datetime series"
   ]
  },
  {
   "cell_type": "code",
   "execution_count": 24,
   "id": "a152f738",
   "metadata": {},
   "outputs": [
    {
     "data": {
      "text/plain": [
       "0       2008-05-26\n",
       "1       2008-05-27\n",
       "2       2008-05-28\n",
       "3       2008-05-29\n",
       "4       2008-05-30\n",
       "           ...    \n",
       "3197    2021-04-26\n",
       "3198    2021-04-27\n",
       "3199    2021-04-28\n",
       "3200    2021-04-29\n",
       "3201    2021-04-30\n",
       "Name: Date, Length: 3202, dtype: object"
      ]
     },
     "execution_count": 24,
     "metadata": {},
     "output_type": "execute_result"
    }
   ],
   "source": [
    "df.Date"
   ]
  },
  {
   "cell_type": "markdown",
   "id": "6c9d3530",
   "metadata": {},
   "source": [
    "Conversion of Date column from Object data type to datetime"
   ]
  },
  {
   "cell_type": "code",
   "execution_count": 25,
   "id": "0b0345a6",
   "metadata": {},
   "outputs": [
    {
     "data": {
      "text/html": [
       "<div>\n",
       "<style scoped>\n",
       "    .dataframe tbody tr th:only-of-type {\n",
       "        vertical-align: middle;\n",
       "    }\n",
       "\n",
       "    .dataframe tbody tr th {\n",
       "        vertical-align: top;\n",
       "    }\n",
       "\n",
       "    .dataframe thead th {\n",
       "        text-align: right;\n",
       "    }\n",
       "</style>\n",
       "<table border=\"1\" class=\"dataframe\">\n",
       "  <thead>\n",
       "    <tr style=\"text-align: right;\">\n",
       "      <th></th>\n",
       "      <th>Year</th>\n",
       "      <th>Month</th>\n",
       "      <th>Day</th>\n",
       "    </tr>\n",
       "  </thead>\n",
       "  <tbody>\n",
       "    <tr>\n",
       "      <th>0</th>\n",
       "      <td>2008</td>\n",
       "      <td>5</td>\n",
       "      <td>26</td>\n",
       "    </tr>\n",
       "    <tr>\n",
       "      <th>1</th>\n",
       "      <td>2008</td>\n",
       "      <td>5</td>\n",
       "      <td>27</td>\n",
       "    </tr>\n",
       "    <tr>\n",
       "      <th>2</th>\n",
       "      <td>2008</td>\n",
       "      <td>5</td>\n",
       "      <td>28</td>\n",
       "    </tr>\n",
       "    <tr>\n",
       "      <th>3</th>\n",
       "      <td>2008</td>\n",
       "      <td>5</td>\n",
       "      <td>29</td>\n",
       "    </tr>\n",
       "    <tr>\n",
       "      <th>4</th>\n",
       "      <td>2008</td>\n",
       "      <td>5</td>\n",
       "      <td>30</td>\n",
       "    </tr>\n",
       "    <tr>\n",
       "      <th>...</th>\n",
       "      <td>...</td>\n",
       "      <td>...</td>\n",
       "      <td>...</td>\n",
       "    </tr>\n",
       "    <tr>\n",
       "      <th>3197</th>\n",
       "      <td>2021</td>\n",
       "      <td>4</td>\n",
       "      <td>26</td>\n",
       "    </tr>\n",
       "    <tr>\n",
       "      <th>3198</th>\n",
       "      <td>2021</td>\n",
       "      <td>4</td>\n",
       "      <td>27</td>\n",
       "    </tr>\n",
       "    <tr>\n",
       "      <th>3199</th>\n",
       "      <td>2021</td>\n",
       "      <td>4</td>\n",
       "      <td>28</td>\n",
       "    </tr>\n",
       "    <tr>\n",
       "      <th>3200</th>\n",
       "      <td>2021</td>\n",
       "      <td>4</td>\n",
       "      <td>29</td>\n",
       "    </tr>\n",
       "    <tr>\n",
       "      <th>3201</th>\n",
       "      <td>2021</td>\n",
       "      <td>4</td>\n",
       "      <td>30</td>\n",
       "    </tr>\n",
       "  </tbody>\n",
       "</table>\n",
       "<p>3202 rows × 3 columns</p>\n",
       "</div>"
      ],
      "text/plain": [
       "      Year  Month  Day\n",
       "0     2008      5   26\n",
       "1     2008      5   27\n",
       "2     2008      5   28\n",
       "3     2008      5   29\n",
       "4     2008      5   30\n",
       "...    ...    ...  ...\n",
       "3197  2021      4   26\n",
       "3198  2021      4   27\n",
       "3199  2021      4   28\n",
       "3200  2021      4   29\n",
       "3201  2021      4   30\n",
       "\n",
       "[3202 rows x 3 columns]"
      ]
     },
     "execution_count": 25,
     "metadata": {},
     "output_type": "execute_result"
    }
   ],
   "source": [
    "\n",
    "df['Date']=pd.to_datetime(df.Date)\n",
    "df['Year']=pd.DatetimeIndex(df.Date).year\n",
    "df['Month']=pd.DatetimeIndex(df.Date).month\n",
    "df['Day']=pd.DatetimeIndex(df.Date).day\n",
    "df[['Year','Month','Day']]"
   ]
  },
  {
   "cell_type": "markdown",
   "id": "25da2b7d",
   "metadata": {},
   "source": [
    "#  1. Stocks performance by avg closeing stocks"
   ]
  },
  {
   "cell_type": "markdown",
   "id": "fb59e84d",
   "metadata": {},
   "source": [
    "Over all stocks performance"
   ]
  },
  {
   "cell_type": "code",
   "execution_count": 28,
   "id": "a1ca2547",
   "metadata": {},
   "outputs": [
    {
     "data": {
      "text/plain": [
       "Text(0.5, 1.0, 'Avg closeing stocks in 2019')"
      ]
     },
     "execution_count": 28,
     "metadata": {},
     "output_type": "execute_result"
    },
    {
     "data": {
      "image/png": "[encoded data removed]",
      "text/plain": [
       "<Figure size 600x300 with 1 Axes>"
      ]
     },
     "metadata": {
      "needs_background": "light"
     },
     "output_type": "display_data"
    }
   ],
   "source": [
    "\n",
    "stocks_perf=df[['Close','Year','Month']]\n",
    "stocks_perf1=stocks_perf[stocks_perf.Year==2019].groupby('Month')['Close'].mean().reset_index()\n",
    "plt.bar(stocks_perf1.Month,stocks_perf1.Close)\n",
    "plt.xlabel('Month')\n",
    "plt.ylabel('Avg of Close')\n",
    "plt.title('Avg closeing stocks in 2019')\n",
    "\n"
   ]
  },
  {
   "attachments": {},
   "cell_type": "markdown",
   "id": "d462a026",
   "metadata": {},
   "source": [
    "As  per graph we can say that avg closing of stocks in 2019  are normal \n",
    "\n",
    "Avg close of stocks are laying between 2500 to 3000 \n",
    "\n",
    "Close columns, one can determine the overall performance of a stock and its popularity among traders\n"
   ]
  },
  {
   "cell_type": "markdown",
   "id": "8c1e9130",
   "metadata": {},
   "source": [
    "# 2. Comparing between volume and turnover in 2019"
   ]
  },
  {
   "cell_type": "code",
   "execution_count": 31,
   "id": "378ee0a2",
   "metadata": {},
   "outputs": [
    {
     "name": "stderr",
     "output_type": "stream",
     "text": [
      "C:\\Users\\Shivam\\AppData\\Local\\Temp\\ipykernel_28840\\1118403557.py:2: FutureWarning: Indexing with multiple keys (implicitly converted to a tuple of keys) will be deprecated, use a list instead.\n",
      "  hero=hero_df0[hero_df0.Year==2019].groupby('Month')['Volume','Turnover'].mean().reset_index()\n"
     ]
    },
    {
     "data": {
      "text/plain": [
       "Text(0.5, 1.0, 'Stock turnover in 2019 ')"
      ]
     },
     "execution_count": 31,
     "metadata": {},
     "output_type": "execute_result"
    },
    {
     "data": {
      "image/png": "[encoded data removed]",
      "text/plain": [
       "<Figure size 600x300 with 1 Axes>"
      ]
     },
     "metadata": {
      "needs_background": "light"
     },
     "output_type": "display_data"
    }
   ],
   "source": [
    "hero_df0=df[['Volume','Turnover','Year','Month']]\n",
    "hero=hero_df0[hero_df0.Year==2019].groupby('Month')['Volume','Turnover'].mean().reset_index()\n",
    "#plt.plot(hero.Month,hero.Volume ,color = 'r')\n",
    "plt.plot(hero.Month,hero.Turnover,color= 'g' , marker ='o')\n",
    "plt.xlabel('Month')\n",
    "plt.ylabel('Avg Turnover')\n",
    "plt.title('Stock turnover in 2019 ')\n"
   ]
  },
  {
   "cell_type": "code",
   "execution_count": 34,
   "id": "d477b2d7",
   "metadata": {},
   "outputs": [
    {
     "name": "stderr",
     "output_type": "stream",
     "text": [
      "C:\\Users\\Shivam\\AppData\\Local\\Temp\\ipykernel_28840\\3588506352.py:2: FutureWarning: Indexing with multiple keys (implicitly converted to a tuple of keys) will be deprecated, use a list instead.\n",
      "  hero=hero_df0[hero_df0.Year==2019].groupby('Month')['Volume','Turnover'].mean().reset_index()\n"
     ]
    },
    {
     "data": {
      "text/plain": [
       "Text(0.5, 1.0, 'Stock Volume variation in 2019')"
      ]
     },
     "execution_count": 34,
     "metadata": {},
     "output_type": "execute_result"
    },
    {
     "data": {
      "image/png": "[encoded data removed]",
      "text/plain": [
       "<Figure size 600x300 with 1 Axes>"
      ]
     },
     "metadata": {
      "needs_background": "light"
     },
     "output_type": "display_data"
    }
   ],
   "source": [
    "hero_df0=df[['Volume','Turnover','Year','Month']]\n",
    "hero=hero_df0[hero_df0.Year==2019].groupby('Month')['Volume','Turnover'].mean().reset_index()\n",
    "plt.plot(hero.Month,hero.Volume ,color = 'r',marker='o')\n",
    "plt.xlabel('Month')\n",
    "plt.ylabel('Avg of Volume')\n",
    "plt.title('Stock Volume variation in 2019')\n"
   ]
  },
  {
   "attachments": {},
   "cell_type": "markdown",
   "id": "eddfd76a",
   "metadata": {},
   "source": [
    "As per graph we can say that volume and turnover are co-relational\n",
    "\n",
    "In between  august and setember the volume and turnover was high \n",
    "\n",
    "Volume columns, one can determine the overall performance of a stock and its popularity among traders\n"
   ]
  },
  {
   "cell_type": "markdown",
   "id": "c7fc735c",
   "metadata": {},
   "source": [
    "# 3. Yearly average turnover of the company"
   ]
  },
  {
   "cell_type": "markdown",
   "id": "46549992",
   "metadata": {},
   "source": [
    "Yearly average turnover of the  compamny"
   ]
  },
  {
   "cell_type": "code",
   "execution_count": 35,
   "id": "0403fb10",
   "metadata": {},
   "outputs": [
    {
     "data": {
      "text/plain": [
       "Text(0.5, 1.0, 'Avg turnover performance from 2000 to 2020')"
      ]
     },
     "execution_count": 35,
     "metadata": {},
     "output_type": "execute_result"
    },
    {
     "data": {
      "image/png": "[encoded data removed]",
      "text/plain": [
       "<Figure size 600x300 with 1 Axes>"
      ]
     },
     "metadata": {
      "needs_background": "light"
     },
     "output_type": "display_data"
    }
   ],
   "source": [
    "\n",
    "turnover=df[['Year','Turnover']]\n",
    "turnover=turnover.groupby('Year')['Turnover'].mean().reset_index()\n",
    "plt.bar(turnover.Year,turnover.Turnover,color='y')\n",
    "plt.plot(turnover.Year,turnover.Turnover,color = 'r')\n",
    "plt.xlabel('Year')\n",
    "plt.ylabel('Avg of Turnover')\n",
    "plt.title('Avg turnover performance from 2000 to 2020')"
   ]
  },
  {
   "attachments": {},
   "cell_type": "markdown",
   "id": "46fc40e5",
   "metadata": {},
   "source": [
    " In the graph we can relate that  turnover is \n",
    "         encressing by  year\n",
    "         \n",
    "The Turnover column provides information about the total amount of money exchanged during a trading day , which can be used to calculate the growth rate of a company\n"
   ]
  },
  {
   "cell_type": "markdown",
   "id": "852177e4",
   "metadata": {},
   "source": [
    "# 4 .Intra day volume  calculation in 2019"
   ]
  },
  {
   "cell_type": "code",
   "execution_count": 37,
   "id": "09672203",
   "metadata": {},
   "outputs": [
    {
     "data": {
      "image/png": "[encoded data removed]",
      "text/plain": [
       "<Figure size 600x300 with 1 Axes>"
      ]
     },
     "metadata": {
      "needs_background": "light"
     },
     "output_type": "display_data"
    }
   ],
   "source": [
    "\n",
    "hero_intra=df[['Volume','Close','Year','Deliverable Volume','Month']]\n",
    "hero_intra=hero_intra[hero_intra.Year==2019]\n",
    "hero_intra['Volume']=hero_intra['Volume'].astype(float)\n",
    "hero_intra['Intra_day_volume']=hero_intra['Volume']-hero_intra['Deliverable Volume']\n",
    "plt.bar(hero_intra.Month,hero_intra.Intra_day_volume,color = 'g')\n",
    "plt.xlabel('Months')\n",
    "plt.ylabel('Intra_day_volume')\n",
    "plt.title('Avg Intra day volume variation in 2020')\n",
    "plt.legend(['Volume']);\n",
    "\n"
   ]
  },
  {
   "attachments": {},
   "cell_type": "markdown",
   "id": "02ed8325",
   "metadata": {},
   "source": [
    "As per the graph  volume decrease in between April to august \n",
    "\n",
    "Impact of covid  on stocks volume we can easly identify \n"
   ]
  },
  {
   "cell_type": "markdown",
   "id": "bc758459",
   "metadata": {},
   "source": [
    "# 5 . VWAP  Avg. price calculation in 2020"
   ]
  },
  {
   "cell_type": "markdown",
   "id": "37ab9a28",
   "metadata": {},
   "source": [
    "\n"
   ]
  },
  {
   "cell_type": "code",
   "execution_count": 38,
   "id": "1e3f5a3e",
   "metadata": {},
   "outputs": [
    {
     "data": {
      "image/png": "[encoded data removed]",
      "text/plain": [
       "<Figure size 600x300 with 1 Axes>"
      ]
     },
     "metadata": {
      "needs_background": "light"
     },
     "output_type": "display_data"
    }
   ],
   "source": [
    "\n",
    "hero_df1=df[(df.Month==3)&(df.Year==2020)]\n",
    "plt.title('VWAP for march (2020)')\n",
    "plt.xlabel('Date')\n",
    "plt.ylabel('Volume weighted average price(VWAP)')\n",
    "plt.plot(hero_df1.Date,hero_df1.VWAP,color='r' ,marker = 'o');\n",
    "plt.xticks(rotation=75);\n",
    "\n"
   ]
  },
  {
   "cell_type": "markdown",
   "id": "79ca242d",
   "metadata": {},
   "source": [
    "As per graph prices are falling in 2020\n",
    "If the share on a day is bought below the VWAP on a day, it can be termed as a good buy.Hence this helps in deciding whether to buy the stock or not on a particular day Let us analyze the VWAP attribute from the table let's supose in covid setuation which day was to buy stocks\n",
    "\n",
    "\n",
    "\n"
   ]
  },
  {
   "cell_type": "markdown",
   "id": "ee3362f4",
   "metadata": {},
   "source": [
    "Checking co relating between columns"
   ]
  },
  {
   "cell_type": "code",
   "execution_count": 214,
   "id": "16938e69",
   "metadata": {},
   "outputs": [
    {
     "data": {
      "text/html": [
       "<div>\n",
       "<style scoped>\n",
       "    .dataframe tbody tr th:only-of-type {\n",
       "        vertical-align: middle;\n",
       "    }\n",
       "\n",
       "    .dataframe tbody tr th {\n",
       "        vertical-align: top;\n",
       "    }\n",
       "\n",
       "    .dataframe thead th {\n",
       "        text-align: right;\n",
       "    }\n",
       "</style>\n",
       "<table border=\"1\" class=\"dataframe\">\n",
       "  <thead>\n",
       "    <tr style=\"text-align: right;\">\n",
       "      <th></th>\n",
       "      <th>Year</th>\n",
       "      <th>Volume</th>\n",
       "      <th>Open</th>\n",
       "      <th>High</th>\n",
       "      <th>Low</th>\n",
       "      <th>VWAP</th>\n",
       "      <th>Month</th>\n",
       "      <th>Day</th>\n",
       "      <th>Close</th>\n",
       "    </tr>\n",
       "  </thead>\n",
       "  <tbody>\n",
       "    <tr>\n",
       "      <th>Year</th>\n",
       "      <td>NaN</td>\n",
       "      <td>NaN</td>\n",
       "      <td>NaN</td>\n",
       "      <td>NaN</td>\n",
       "      <td>NaN</td>\n",
       "      <td>NaN</td>\n",
       "      <td>NaN</td>\n",
       "      <td>NaN</td>\n",
       "      <td>NaN</td>\n",
       "    </tr>\n",
       "    <tr>\n",
       "      <th>Volume</th>\n",
       "      <td>NaN</td>\n",
       "      <td>1.000000</td>\n",
       "      <td>-0.572981</td>\n",
       "      <td>-0.528729</td>\n",
       "      <td>-0.570451</td>\n",
       "      <td>-0.544862</td>\n",
       "      <td>-0.012225</td>\n",
       "      <td>0.008772</td>\n",
       "      <td>-0.532025</td>\n",
       "    </tr>\n",
       "    <tr>\n",
       "      <th>Open</th>\n",
       "      <td>NaN</td>\n",
       "      <td>-0.572981</td>\n",
       "      <td>1.000000</td>\n",
       "      <td>0.992701</td>\n",
       "      <td>0.995006</td>\n",
       "      <td>0.993670</td>\n",
       "      <td>0.396986</td>\n",
       "      <td>-0.066558</td>\n",
       "      <td>0.986935</td>\n",
       "    </tr>\n",
       "    <tr>\n",
       "      <th>High</th>\n",
       "      <td>NaN</td>\n",
       "      <td>-0.528729</td>\n",
       "      <td>0.992701</td>\n",
       "      <td>1.000000</td>\n",
       "      <td>0.992006</td>\n",
       "      <td>0.997897</td>\n",
       "      <td>0.398537</td>\n",
       "      <td>-0.073933</td>\n",
       "      <td>0.995783</td>\n",
       "    </tr>\n",
       "    <tr>\n",
       "      <th>Low</th>\n",
       "      <td>NaN</td>\n",
       "      <td>-0.570451</td>\n",
       "      <td>0.995006</td>\n",
       "      <td>0.992006</td>\n",
       "      <td>1.000000</td>\n",
       "      <td>0.997144</td>\n",
       "      <td>0.399830</td>\n",
       "      <td>-0.072105</td>\n",
       "      <td>0.993262</td>\n",
       "    </tr>\n",
       "    <tr>\n",
       "      <th>VWAP</th>\n",
       "      <td>NaN</td>\n",
       "      <td>-0.544862</td>\n",
       "      <td>0.993670</td>\n",
       "      <td>0.997897</td>\n",
       "      <td>0.997144</td>\n",
       "      <td>1.000000</td>\n",
       "      <td>0.401567</td>\n",
       "      <td>-0.073189</td>\n",
       "      <td>0.997859</td>\n",
       "    </tr>\n",
       "    <tr>\n",
       "      <th>Month</th>\n",
       "      <td>NaN</td>\n",
       "      <td>-0.012225</td>\n",
       "      <td>0.396986</td>\n",
       "      <td>0.398537</td>\n",
       "      <td>0.399830</td>\n",
       "      <td>0.401567</td>\n",
       "      <td>1.000000</td>\n",
       "      <td>-0.018802</td>\n",
       "      <td>0.402368</td>\n",
       "    </tr>\n",
       "    <tr>\n",
       "      <th>Day</th>\n",
       "      <td>NaN</td>\n",
       "      <td>0.008772</td>\n",
       "      <td>-0.066558</td>\n",
       "      <td>-0.073933</td>\n",
       "      <td>-0.072105</td>\n",
       "      <td>-0.073189</td>\n",
       "      <td>-0.018802</td>\n",
       "      <td>1.000000</td>\n",
       "      <td>-0.074738</td>\n",
       "    </tr>\n",
       "    <tr>\n",
       "      <th>Close</th>\n",
       "      <td>NaN</td>\n",
       "      <td>-0.532025</td>\n",
       "      <td>0.986935</td>\n",
       "      <td>0.995783</td>\n",
       "      <td>0.993262</td>\n",
       "      <td>0.997859</td>\n",
       "      <td>0.402368</td>\n",
       "      <td>-0.074738</td>\n",
       "      <td>1.000000</td>\n",
       "    </tr>\n",
       "  </tbody>\n",
       "</table>\n",
       "</div>"
      ],
      "text/plain": [
       "        Year    Volume      Open      High       Low      VWAP     Month  \\\n",
       "Year     NaN       NaN       NaN       NaN       NaN       NaN       NaN   \n",
       "Volume   NaN  1.000000 -0.572981 -0.528729 -0.570451 -0.544862 -0.012225   \n",
       "Open     NaN -0.572981  1.000000  0.992701  0.995006  0.993670  0.396986   \n",
       "High     NaN -0.528729  0.992701  1.000000  0.992006  0.997897  0.398537   \n",
       "Low      NaN -0.570451  0.995006  0.992006  1.000000  0.997144  0.399830   \n",
       "VWAP     NaN -0.544862  0.993670  0.997897  0.997144  1.000000  0.401567   \n",
       "Month    NaN -0.012225  0.396986  0.398537  0.399830  0.401567  1.000000   \n",
       "Day      NaN  0.008772 -0.066558 -0.073933 -0.072105 -0.073189 -0.018802   \n",
       "Close    NaN -0.532025  0.986935  0.995783  0.993262  0.997859  0.402368   \n",
       "\n",
       "             Day     Close  \n",
       "Year         NaN       NaN  \n",
       "Volume  0.008772 -0.532025  \n",
       "Open   -0.066558  0.986935  \n",
       "High   -0.073933  0.995783  \n",
       "Low    -0.072105  0.993262  \n",
       "VWAP   -0.073189  0.997859  \n",
       "Month  -0.018802  0.402368  \n",
       "Day     1.000000 -0.074738  \n",
       "Close  -0.074738  1.000000  "
      ]
     },
     "execution_count": 214,
     "metadata": {},
     "output_type": "execute_result"
    }
   ],
   "source": [
    "#checking co relating between columns\n",
    "hero_df2=df[['Year','Volume','Open','High','Low','VWAP','Month','Day','Close']]\n",
    "hero_df3=hero_df2[hero_df2.Year==2020]\n",
    "hero_df3.corr()\n"
   ]
  },
  {
   "cell_type": "code",
   "execution_count": 215,
   "id": "778a6311",
   "metadata": {},
   "outputs": [
    {
     "data": {
      "text/plain": [
       "<AxesSubplot: >"
      ]
     },
     "execution_count": 215,
     "metadata": {},
     "output_type": "execute_result"
    },
    {
     "data": {
      "image/png": "[encoded data removed]",
      "text/plain": [
       "<Figure size 900x500 with 2 Axes>"
      ]
     },
     "metadata": {
      "needs_background": "light"
     },
     "output_type": "display_data"
    }
   ],
   "source": [
    "sns.heatmap(hero_df2.corr(),cmap=\"YlGnBu\", annot = True)"
   ]
  },
  {
   "cell_type": "code",
   "execution_count": 320,
   "id": "cccdb7d7",
   "metadata": {},
   "outputs": [
    {
     "data": {
      "image/png": "[encoded data removed]",
      "text/plain": [
       "<Figure size 500x500 with 1 Axes>"
      ]
     },
     "metadata": {
      "needs_background": "light"
     },
     "output_type": "display_data"
    }
   ],
   "source": [
    "sns.pairplot(hero_df2, x_vars=['Turnover'], y_vars='Volume', height=5, aspect=1, kind='scatter')\n",
    "plt.show()"
   ]
  },
  {
   "cell_type": "code",
   "execution_count": 327,
   "id": "99a6a70c",
   "metadata": {},
   "outputs": [
    {
     "data": {
      "image/png": "[encoded data removed]",
      "text/plain": [
       "<Figure size 500x500 with 1 Axes>"
      ]
     },
     "metadata": {
      "needs_background": "light"
     },
     "output_type": "display_data"
    }
   ],
   "source": [
    "sns.pairplot(hero_df2, x_vars=['Close'], y_vars='Volume', height=5, aspect=1, kind='scatter')\n",
    "plt.show()"
   ]
  },
  {
   "cell_type": "markdown",
   "id": "33f09c7e",
   "metadata": {},
   "source": [
    "# Asking and Answering Questions"
   ]
  },
  {
   "cell_type": "markdown",
   "id": "f2da3517",
   "metadata": {},
   "source": [
    "Relation between avg volume of stocks and highest volumns of stocks in each year and min volume"
   ]
  },
  {
   "cell_type": "markdown",
   "id": "c5d52d0d",
   "metadata": {},
   "source": []
  },
  {
   "cell_type": "code",
   "execution_count": 240,
   "id": "517f648c",
   "metadata": {},
   "outputs": [
    {
     "data": {
      "image/png": "[encoded data removed]",
      "text/plain": [
       "<Figure size 900x500 with 1 Axes>"
      ]
     },
     "metadata": {
      "needs_background": "light"
     },
     "output_type": "display_data"
    }
   ],
   "source": [
    "hero_df2 = df[hero_df.Year==2019].groupby('Month')['Volume'].max().reset_index()\n",
    "hero_df1 = df[hero_df.Year==2019].groupby('Month')['Volume'].mean().reset_index()\n",
    "hero_df3 = df[hero_df.Year==2019].groupby('Month')['Volume'].min().reset_index()\n",
    "plt.plot(hero_df1.Month,hero_df1.Volume ,color = 'r',marker = 'o')\n",
    "plt.plot(hero_df2.Month,hero_df2.Volume,color= 'g', marker='s' )\n",
    "\n",
    "plt.xlabel('Month')\n",
    "plt.ylabel('Avg of Volume')\n",
    "plt.title('Stock Volume variation in 2019')\n",
    "plt.legend(['Avg volume','Avg Higest Volume']);"
   ]
  },
  {
   "cell_type": "markdown",
   "id": "68a44a56",
   "metadata": {},
   "source": [
    "1. What is max stock price of the company between 2000 to 2021\n"
   ]
  },
  {
   "cell_type": "code",
   "execution_count": 24,
   "id": "c59a1580",
   "metadata": {
    "scrolled": true
   },
   "outputs": [
    {
     "data": {
      "text/plain": [
       "4361.4"
      ]
     },
     "execution_count": 24,
     "metadata": {},
     "output_type": "execute_result"
    }
   ],
   "source": [
    "df.max=df['High'].max()\n",
    "df.max\n"
   ]
  },
  {
   "cell_type": "markdown",
   "id": "21757851",
   "metadata": {},
   "source": [
    " 2. What is lowest stock price of the company between 2000 to 2021"
   ]
  },
  {
   "cell_type": "code",
   "execution_count": 25,
   "id": "ed179b7c",
   "metadata": {},
   "outputs": [
    {
     "data": {
      "text/plain": [
       "307.05"
      ]
     },
     "execution_count": 25,
     "metadata": {},
     "output_type": "execute_result"
    }
   ],
   "source": [
    "df.max=df['High'].min()\n",
    "df.max"
   ]
  },
  {
   "cell_type": "markdown",
   "id": "bee320c8",
   "metadata": {},
   "source": [
    "3.What is Avg VWAP of the company between 2000 to 2021"
   ]
  },
  {
   "cell_type": "code",
   "execution_count": 33,
   "id": "c468c311",
   "metadata": {},
   "outputs": [
    {
     "data": {
      "text/plain": [
       "2191.2942879450343"
      ]
     },
     "execution_count": 33,
     "metadata": {},
     "output_type": "execute_result"
    }
   ],
   "source": [
    "df.max=df['VWAP'].mean()\n",
    "df.max"
   ]
  },
  {
   "cell_type": "markdown",
   "id": "10f1692b",
   "metadata": {},
   "source": [
    "4.What is Avg Turnover of the company between 2000 to 2021"
   ]
  },
  {
   "cell_type": "code",
   "execution_count": 27,
   "id": "f3a50d85",
   "metadata": {},
   "outputs": [
    {
     "data": {
      "text/plain": [
       "96440239903360.4"
      ]
     },
     "execution_count": 27,
     "metadata": {},
     "output_type": "execute_result"
    }
   ],
   "source": [
    "df.max=df['Turnover'].mean()\n",
    "df.max"
   ]
  },
  {
   "cell_type": "markdown",
   "id": "834b6639",
   "metadata": {},
   "source": [
    "# Inferences and Conclusion"
   ]
  },
  {
   "cell_type": "markdown",
   "id": "a7ce70b7",
   "metadata": {},
   "source": [
    "Bajaj Auto Ltd.\n",
    "\n",
    "Data set contain 3202 rows and  15 columns\n",
    "\n",
    "Treads columns  contains  null values in 746 rows\n",
    "\n",
    "Deliverable Volume columns contain  514 and %Deliverable  columns contain 514 null values\n",
    "\n",
    "Series attribute have one unique value EQ\n",
    "\n",
    "Min date is  2000-01-03  and Max date is 2021-04-03\n"
   ]
  },
  {
   "cell_type": "markdown",
   "id": "e9f7110b",
   "metadata": {},
   "source": [
    "the Nifty 50 each company data set from 2000 to 2020 provides a wealth of information about the performance of stocks in the Nifty 50 index.\n",
    "\n",
    "The data includes various columns such as Open, High, Low, Last, Close, VWAP, Date, Symbol, Volume, Turnover, Trades, Deliverable Volume, and %Deliverable. These columns provide valuable insights into the price movements and trading activity of each stock.\n",
    "\n",
    "Exploratory Data Analysis (EDA) of this dataset can help to identify trends and patterns in the data. For example, by analyzing the Close and Volume columns, one can determine the overall performance of a stock and its popularity among traders\n",
    "\n",
    "The Turnover column provides information about the total amount of money exchanged during a trading day, which can be used to calculate the growth rate of a company.\n",
    "Additionally, the VWAP column provides a weighted average price of a stock, which can be used to determine the market sentiment towards a particular stock.\n",
    "In summary, the Nifty 50 each company data set provides a wealth of information that can be used to gain a better understanding of the performance and trends of stocks in the Nifty 50 index.\n"
   ]
  },
  {
   "cell_type": "code",
   "execution_count": null,
   "id": "3ce63f18",
   "metadata": {},
   "outputs": [],
   "source": []
  }
 ],
 "metadata": {
  "kernelspec": {
   "display_name": "Python 3 (ipykernel)",
   "language": "python",
   "name": "python3"
  },
  "language_info": {
   "codemirror_mode": {
    "name": "ipython",
    "version": 3
   },
   "file_extension": ".py",
   "mimetype": "text/x-python",
   "name": "python",
   "nbconvert_exporter": "python",
   "pygments_lexer": "ipython3",
   "version": "3.11.1"
  }
 },
 "nbformat": 4,
 "nbformat_minor": 5
}
